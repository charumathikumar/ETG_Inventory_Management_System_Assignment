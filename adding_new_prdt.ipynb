{
  "nbformat": 4,
  "nbformat_minor": 0,
  "metadata": {
    "colab": {
      "name": "adding_new_prdt.ipynb",
      "provenance": [],
      "collapsed_sections": [],
      "authorship_tag": "ABX9TyMd1FQ9y1kQ6Yddw8/TsSeG",
      "include_colab_link": true
    },
    "kernelspec": {
      "name": "python3",
      "display_name": "Python 3"
    },
    "language_info": {
      "name": "python"
    }
  },
  "cells": [
    {
      "cell_type": "markdown",
      "metadata": {
        "id": "view-in-github",
        "colab_type": "text"
      },
      "source": [
        "<a href=\"https://colab.research.google.com/github/charumathikumar/ETG_Inventory_Management_System_Assignment/blob/main/adding_new_prdt.ipynb\" target=\"_parent\"><img src=\"https://colab.research.google.com/assets/colab-badge.svg\" alt=\"Open In Colab\"/></a>"
      ]
    },
    {
      "cell_type": "code",
      "metadata": {
        "id": "Dz7vOdbwVoBm"
      },
      "source": [
        "record = { 10001 : {\"p_name\": \"cheese\" , \"quant\": 100 , \"price\" : 100 ,\"date\": \"04/09/2021\" ,\"e_date\": \"10/12/2021\" },\n",
        "           10002 : {\"p_name\": \"ham\" , \"quant\": 95, \"price\" : 150  ,\"date\":\"04/09/2021\" ,\"e_date\": \"10/09/2021\" },\n",
        "           10003 : {\"p_name\": \"turkey\" , \"quant\": 50 , \"price\" : 200 ,\"date\":\"04/09/2021\" ,\"e_date\": \"10/09/2021\" }}"
      ],
      "execution_count": null,
      "outputs": []
    },
    {
      "cell_type": "code",
      "metadata": {
        "id": "SSJU_oVHgRDP"
      },
      "source": [
        "import json"
      ],
      "execution_count": null,
      "outputs": []
    },
    {
      "cell_type": "code",
      "metadata": {
        "id": "TXpR1Dx1gjga"
      },
      "source": [
        "js = json.dumps(record)"
      ],
      "execution_count": null,
      "outputs": []
    },
    {
      "cell_type": "code",
      "metadata": {
        "id": "cEEY4de1gjpS"
      },
      "source": [
        "fd = open(\"record.json\",'w')\n",
        "\n",
        "fd.write(js)\n",
        "\n",
        "fd.close()"
      ],
      "execution_count": null,
      "outputs": []
    },
    {
      "cell_type": "code",
      "metadata": {
        "id": "ref35KEDgjrz"
      },
      "source": [
        "fd = open(\"record.json\",'r')\n",
        "r = fd.read()\n",
        "fd.close()\n",
        "record = json.loads(r)"
      ],
      "execution_count": null,
      "outputs": []
    },
    {
      "cell_type": "code",
      "metadata": {
        "colab": {
          "base_uri": "https://localhost:8080/"
        },
        "id": "WiwoudWJgjt8",
        "outputId": "98836ceb-5a9e-46d1-dee0-1d9eec661ecd"
      },
      "source": [
        "record"
      ],
      "execution_count": null,
      "outputs": [
        {
          "output_type": "execute_result",
          "data": {
            "text/plain": [
              "{'10001': {'date': '04/09/2021',\n",
              "  'e_date': '10/12/2021',\n",
              "  'p_name': 'cheese',\n",
              "  'price': 100,\n",
              "  'quant': 100},\n",
              " '10002': {'date': '04/09/2021',\n",
              "  'e_date': '10/09/2021',\n",
              "  'p_name': 'ham',\n",
              "  'price': 150,\n",
              "  'quant': 95},\n",
              " '10003': {'date': '04/09/2021',\n",
              "  'e_date': '10/09/2021',\n",
              "  'p_name': 'turkey',\n",
              "  'price': 200,\n",
              "  'quant': 50}}"
            ]
          },
          "metadata": {},
          "execution_count": 6
        }
      ]
    },
    {
      "cell_type": "code",
      "metadata": {
        "colab": {
          "base_uri": "https://localhost:8080/"
        },
        "id": "IvtHmoBegjwC",
        "outputId": "f4e17c72-9e4e-43ec-c088-5e00f619c959"
      },
      "source": [
        "n=int(input(\"Enter number of products to be added:\"))\n",
        "for i in range(n):\n",
        "      prod_id = str(input(\"Enter product id:\"))\n",
        "      p_name = str(input(\"Enter product name:\"))\n",
        "      quant= int(input(\"Enter quantity:\"))\n",
        "      price= int(input(\"Enter price:\"))\n",
        "      date = str(input(\"Enter manufactured/packed date:\"))\n",
        "      e_date = str(input(\"Enter expiry date:\"))\n",
        "      record[prod_id] = { \"p_name\": p_name , \"quant\": quant , \"price\" : price ,\"date\": date ,\"e_date\": e_date}\n"
      ],
      "execution_count": null,
      "outputs": [
        {
          "name": "stdout",
          "output_type": "stream",
          "text": [
            "Enter number of products to be added:2\n",
            "Enter product id:10004\n",
            "Enter product name:salami\n",
            "Enter quantity:50\n",
            "Enter price:160\n",
            "Enter manufactured/packed date:05/09/2021\n",
            "Enter expiry date:10/09/2021\n",
            "Enter product id:10005\n",
            "Enter product name:shrimp\n",
            "Enter quantity:500\n",
            "Enter price:15\n",
            "Enter manufactured/packed date:05/09/2021\n",
            "Enter expiry date:09/09/2021\n"
          ]
        }
      ]
    },
    {
      "cell_type": "code",
      "metadata": {
        "colab": {
          "base_uri": "https://localhost:8080/"
        },
        "id": "b8DpJhwGgjyg",
        "outputId": "82feaf8d-0d2b-4082-eb3b-fe448c62acae"
      },
      "source": [
        "record"
      ],
      "execution_count": null,
      "outputs": [
        {
          "output_type": "execute_result",
          "data": {
            "text/plain": [
              "{'10001': {'date': '04/09/2021',\n",
              "  'e_date': '10/12/2021',\n",
              "  'p_name': 'cheese',\n",
              "  'price': 100,\n",
              "  'quant': 100},\n",
              " '10002': {'date': '04/09/2021',\n",
              "  'e_date': '10/09/2021',\n",
              "  'p_name': 'ham',\n",
              "  'price': 150,\n",
              "  'quant': 95},\n",
              " '10003': {'date': '04/09/2021',\n",
              "  'e_date': '10/09/2021',\n",
              "  'p_name': 'turkey',\n",
              "  'price': 200,\n",
              "  'quant': 50},\n",
              " '10004': {'date': '05/09/2021',\n",
              "  'e_date': '10/09/2021',\n",
              "  'p_name': 'salami',\n",
              "  'price': 160,\n",
              "  'quant': 50},\n",
              " '10005': {'date': '05/09/2021',\n",
              "  'e_date': '09/09/2021',\n",
              "  'p_name': 'shrimp',\n",
              "  'price': 15,\n",
              "  'quant': 500}}"
            ]
          },
          "metadata": {},
          "execution_count": 8
        }
      ]
    },
    {
      "cell_type": "code",
      "metadata": {
        "id": "9NPDgWZTgj0l"
      },
      "source": [
        "js = json.dumps(record)\n",
        "\n",
        "fd = open(\"record.json\",'w')\n",
        "fd.write(js)\n",
        "fd.close()"
      ],
      "execution_count": null,
      "outputs": []
    },
    {
      "cell_type": "code",
      "metadata": {
        "colab": {
          "base_uri": "https://localhost:8080/"
        },
        "id": "od1RL8csgj2f",
        "outputId": "fc196367-5132-4844-a750-3e51536fe7f7"
      },
      "source": [
        "n=int(input(\"Enter number of products to be added:\"))\n",
        "for i in range(n):\n",
        "      prod_id = str(input(\"Enter product id:\"))\n",
        "      p_name = str(input(\"Enter product name:\"))\n",
        "      quant= int(input(\"Enter quantity:\"))\n",
        "      price= int(input(\"Enter price:\"))\n",
        "      date = str(input(\"Enter manufactured/packed date:\"))\n",
        "      e_date = str(input(\"Enter expiry date:\"))\n",
        "      record[prod_id] = { \"p_name\": p_name , \"quant\": quant , \"price\" : price ,\"date\": date ,\"e_date\": e_date}"
      ],
      "execution_count": null,
      "outputs": [
        {
          "name": "stdout",
          "output_type": "stream",
          "text": [
            "Enter number of products to be added:2\n",
            "Enter product id:10034\n",
            "Enter product name:egg\n",
            "Enter quantity:28\n",
            "Enter price:5\n",
            "Enter manufactured/packed date:06/09/2021\n",
            "Enter expiry date:10/09/2021\n",
            "Enter product id:10035\n",
            "Enter product name:powder\n",
            "Enter quantity:50\n",
            "Enter price:40\n",
            "Enter manufactured/packed date:07/08/2021\n",
            "Enter expiry date:07/08/2022\n"
          ]
        }
      ]
    },
    {
      "cell_type": "code",
      "metadata": {
        "colab": {
          "base_uri": "https://localhost:8080/"
        },
        "id": "N22lG7Tpgj4t",
        "outputId": "3129eeac-cd4e-48e4-d10b-9b5ee7d63a6a"
      },
      "source": [
        "record"
      ],
      "execution_count": null,
      "outputs": [
        {
          "output_type": "execute_result",
          "data": {
            "text/plain": [
              "{'10001': {'date': '04/09/2021',\n",
              "  'e_date': '10/12/2021',\n",
              "  'p_name': 'cheese',\n",
              "  'price': 100,\n",
              "  'quant': 100},\n",
              " '10002': {'date': '04/09/2021',\n",
              "  'e_date': '10/09/2021',\n",
              "  'p_name': 'ham',\n",
              "  'price': 150,\n",
              "  'quant': 95},\n",
              " '10003': {'date': '04/09/2021',\n",
              "  'e_date': '10/09/2021',\n",
              "  'p_name': 'turkey',\n",
              "  'price': 200,\n",
              "  'quant': 50},\n",
              " '10004': {'date': '05/09/2021',\n",
              "  'e_date': '10/09/2021',\n",
              "  'p_name': 'salami',\n",
              "  'price': 160,\n",
              "  'quant': 50},\n",
              " '10005': {'date': '05/09/2021',\n",
              "  'e_date': '09/09/2021',\n",
              "  'p_name': 'shrimp',\n",
              "  'price': 15,\n",
              "  'quant': 500},\n",
              " '10006': {'date': '06/09/2021',\n",
              "  'e_date': '10/09/2021',\n",
              "  'p_name': 'chicken',\n",
              "  'price': 100,\n",
              "  'quant': 10},\n",
              " '10007': {'date': '06/09/2021',\n",
              "  'e_date': '10/09/2021',\n",
              "  'p_name': 'fish',\n",
              "  'price': 20,\n",
              "  'quant': 300},\n",
              " '10008': {'date': '03/09/2021',\n",
              "  'e_date': '13/09/2021',\n",
              "  'p_name': 'bread',\n",
              "  'price': 25,\n",
              "  'quant': 95},\n",
              " '10009': {'date': '06/09/2021',\n",
              "  'e_date': '16/09/2021',\n",
              "  'p_name': 'bagels',\n",
              "  'price': 40,\n",
              "  'quant': 65},\n",
              " '10010': {'date': '03/09/2021',\n",
              "  'e_date': '03/10/2021',\n",
              "  'p_name': 'muffins',\n",
              "  'price': 25,\n",
              "  'quant': 100},\n",
              " '10011': {'date': '06/09/2021',\n",
              "  'e_date': '16/09/2021',\n",
              "  'p_name': 'buns',\n",
              "  'price': 10,\n",
              "  'quant': 150},\n",
              " '10012': {'date': '01/09/2021',\n",
              "  'e_date': '01/12/2021',\n",
              "  'p_name': 'pasta',\n",
              "  'price': 100,\n",
              "  'quant': 80},\n",
              " '10013': {'date': '01/03/2021',\n",
              "  'e_date': '01/12/2021',\n",
              "  'p_name': 'rice',\n",
              "  'price': 1000,\n",
              "  'quant': 250},\n",
              " '10014': {'date': '03/06/2021',\n",
              "  'e_date': '05/05/2022',\n",
              "  'p_name': 'cereal',\n",
              "  'price': 188,\n",
              "  'quant': 108},\n",
              " '10015': {'date': '07/08/2021',\n",
              "  'e_date': '09/03/2022',\n",
              "  'p_name': 'oatmeal',\n",
              "  'price': 200,\n",
              "  'quant': 70},\n",
              " '10016': {'date': '06/09/2021',\n",
              "  'e_date': '12/09/2021',\n",
              "  'p_name': 'bacon',\n",
              "  'price': 300,\n",
              "  'quant': 70},\n",
              " '10017': {'date': '06/09/2021',\n",
              "  'e_date': '10/09/2021',\n",
              "  'p_name': 'sausge',\n",
              "  'price': 90,\n",
              "  'quant': 102},\n",
              " '10018': {'date': '06/09/2021',\n",
              "  'e_date': '10/09/2021',\n",
              "  'p_name': 'waffles',\n",
              "  'price': 150,\n",
              "  'quant': 200},\n",
              " '10019': {'date': '06/08/2021',\n",
              "  'e_date': '06/04/2022',\n",
              "  'p_name': 'ketchup',\n",
              "  'price': 60,\n",
              "  'quant': 250},\n",
              " '10020': {'date': '06/09/2021',\n",
              "  'e_date': '20/09/2021',\n",
              "  'p_name': 'cream',\n",
              "  'price': 100,\n",
              "  'quant': 190},\n",
              " '10021': {'date': '05/08/2021',\n",
              "  'e_date': '05/06/2022',\n",
              "  'p_name': 'tissues',\n",
              "  'price': 150,\n",
              "  'quant': 180},\n",
              " '10022': {'date': '07/09/2021',\n",
              "  'e_date': '10/08/2022',\n",
              "  'p_name': 'napkins',\n",
              "  'price': 100,\n",
              "  'quant': 250},\n",
              " '10023': {'date': '05/07/2021',\n",
              "  'e_date': '05/07/2022',\n",
              "  'p_name': 'soap',\n",
              "  'price': 50,\n",
              "  'quant': 300},\n",
              " '10027': {'date': '07/08/2021',\n",
              "  'e_date': '07/08/2022',\n",
              "  'p_name': 'paste',\n",
              "  'price': 50,\n",
              "  'quant': 190},\n",
              " '10028': {'date': '07/08/2021',\n",
              "  'e_date': '07/05/2022',\n",
              "  'p_name': 'noodeles',\n",
              "  'price': 40,\n",
              "  'quant': 160},\n",
              " '10029': {'date': '06/09/2021',\n",
              "  'e_date': '09/09/2021',\n",
              "  'p_name': 'milk',\n",
              "  'price': 30,\n",
              "  'quant': 40},\n",
              " '10030': {'date': '06/08/2021',\n",
              "  'e_date': '06/06/2022',\n",
              "  'p_name': 'juice',\n",
              "  'price': 70,\n",
              "  'quant': 150},\n",
              " '10031': {'date': '07/08/2021',\n",
              "  'e_date': '07/08/2022',\n",
              "  'p_name': 'battery',\n",
              "  'price': 50,\n",
              "  'quant': 90},\n",
              " '10032': {'date': '06/05/2021',\n",
              "  'e_date': '06/04/2022',\n",
              "  'p_name': 'shampoo',\n",
              "  'price': 2,\n",
              "  'quant': 100},\n",
              " '10034': {'date': '06/09/2021',\n",
              "  'e_date': '10/09/2021',\n",
              "  'p_name': 'egg',\n",
              "  'price': 5,\n",
              "  'quant': 28},\n",
              " '10035': {'date': '07/08/2021',\n",
              "  'e_date': '07/08/2022',\n",
              "  'p_name': 'powder',\n",
              "  'price': 40,\n",
              "  'quant': 50}}"
            ]
          },
          "metadata": {},
          "execution_count": 15
        }
      ]
    },
    {
      "cell_type": "code",
      "metadata": {
        "id": "K0e_gv69gj66"
      },
      "source": [
        "js = json.dumps(record)\n",
        "\n",
        "fd = open(\"record.json\",'w')\n",
        "fd.write(js)\n",
        "fd.close()"
      ],
      "execution_count": null,
      "outputs": []
    },
    {
      "cell_type": "code",
      "metadata": {
        "id": "auclnh1pgj-0"
      },
      "source": [
        ""
      ],
      "execution_count": null,
      "outputs": []
    },
    {
      "cell_type": "code",
      "metadata": {
        "id": "hR8NaBfCgkBM"
      },
      "source": [
        ""
      ],
      "execution_count": null,
      "outputs": []
    },
    {
      "cell_type": "code",
      "metadata": {
        "id": "mg8In_uzgkDN"
      },
      "source": [
        ""
      ],
      "execution_count": null,
      "outputs": []
    },
    {
      "cell_type": "code",
      "metadata": {
        "id": "41RXC2WmgkFc"
      },
      "source": [
        ""
      ],
      "execution_count": null,
      "outputs": []
    }
  ]
}
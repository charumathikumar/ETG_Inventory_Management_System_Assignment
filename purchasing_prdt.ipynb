{
  "nbformat": 4,
  "nbformat_minor": 0,
  "metadata": {
    "colab": {
      "name": "purchasing_prdt.ipynb",
      "provenance": [],
      "collapsed_sections": [],
      "authorship_tag": "ABX9TyPq6Xm3xARgog+irNc2f7xD",
      "include_colab_link": true
    },
    "kernelspec": {
      "name": "python3",
      "display_name": "Python 3"
    },
    "language_info": {
      "name": "python"
    }
  },
  "cells": [
    {
      "cell_type": "markdown",
      "metadata": {
        "id": "view-in-github",
        "colab_type": "text"
      },
      "source": [
        "<a href=\"https://colab.research.google.com/github/charumathikumar/ETG_Inventory_Management_System_Assignment/blob/main/purchasing_prdt.ipynb\" target=\"_parent\"><img src=\"https://colab.research.google.com/assets/colab-badge.svg\" alt=\"Open In Colab\"/></a>"
      ]
    },
    {
      "cell_type": "code",
      "metadata": {
        "id": "WKOMVYAQQ5Zc"
      },
      "source": [
        "import json\n",
        "\n",
        "fd = open(\"record.json\",'r')\n",
        "r = fd.read()\n",
        "fd.close()\n",
        "\n",
        "records = json.loads(r)"
      ],
      "execution_count": 2,
      "outputs": []
    },
    {
      "cell_type": "code",
      "metadata": {
        "colab": {
          "base_uri": "https://localhost:8080/"
        },
        "id": "3PaJZ51eRMr3",
        "outputId": "2497bc91-4ab7-4821-c106-4a60f00d3c56"
      },
      "source": [
        "records"
      ],
      "execution_count": 4,
      "outputs": [
        {
          "output_type": "execute_result",
          "data": {
            "text/plain": [
              "{'10001': {'date': '04/09/2021',\n",
              "  'e_date': '10/12/2021',\n",
              "  'p_name': 'cheese',\n",
              "  'price': 100,\n",
              "  'quant': 100},\n",
              " '10002': {'date': '04/09/2021',\n",
              "  'e_date': '10/09/2021',\n",
              "  'p_name': 'ham',\n",
              "  'price': 150,\n",
              "  'quant': 95},\n",
              " '10003': {'date': '04/09/2021',\n",
              "  'e_date': '10/09/2021',\n",
              "  'p_name': 'turkey',\n",
              "  'price': 200,\n",
              "  'quant': 50},\n",
              " '10004': {'date': '05/09/2021',\n",
              "  'e_date': '10/09/2021',\n",
              "  'p_name': 'salami',\n",
              "  'price': 160,\n",
              "  'quant': 50},\n",
              " '10005': {'date': '05/09/2021',\n",
              "  'e_date': '09/09/2021',\n",
              "  'p_name': 'shrimp',\n",
              "  'price': 15,\n",
              "  'quant': 500},\n",
              " '10006': {'date': '06/09/2021',\n",
              "  'e_date': '10/09/2021',\n",
              "  'p_name': 'chicken',\n",
              "  'price': 100,\n",
              "  'quant': 10},\n",
              " '10007': {'date': '06/09/2021',\n",
              "  'e_date': '10/09/2021',\n",
              "  'p_name': 'fish',\n",
              "  'price': 20,\n",
              "  'quant': 300},\n",
              " '10008': {'date': '03/09/2021',\n",
              "  'e_date': '13/09/2021',\n",
              "  'p_name': 'bread',\n",
              "  'price': 25,\n",
              "  'quant': 95},\n",
              " '10009': {'date': '06/09/2021',\n",
              "  'e_date': '16/09/2021',\n",
              "  'p_name': 'bagels',\n",
              "  'price': 40,\n",
              "  'quant': 65},\n",
              " '10010': {'date': '03/09/2021',\n",
              "  'e_date': '03/10/2021',\n",
              "  'p_name': 'muffins',\n",
              "  'price': 25,\n",
              "  'quant': 100},\n",
              " '10011': {'date': '06/09/2021',\n",
              "  'e_date': '16/09/2021',\n",
              "  'p_name': 'buns',\n",
              "  'price': 10,\n",
              "  'quant': 150},\n",
              " '10012': {'date': '01/09/2021',\n",
              "  'e_date': '01/12/2021',\n",
              "  'p_name': 'pasta',\n",
              "  'price': 100,\n",
              "  'quant': 80},\n",
              " '10013': {'date': '01/03/2021',\n",
              "  'e_date': '01/12/2021',\n",
              "  'p_name': 'rice',\n",
              "  'price': 1000,\n",
              "  'quant': 250},\n",
              " '10014': {'date': '03/06/2021',\n",
              "  'e_date': '05/05/2022',\n",
              "  'p_name': 'cereal',\n",
              "  'price': 188,\n",
              "  'quant': 108},\n",
              " '10015': {'date': '07/08/2021',\n",
              "  'e_date': '09/03/2022',\n",
              "  'p_name': 'oatmeal',\n",
              "  'price': 200,\n",
              "  'quant': 70},\n",
              " '10016': {'date': '06/09/2021',\n",
              "  'e_date': '12/09/2021',\n",
              "  'p_name': 'bacon',\n",
              "  'price': 300,\n",
              "  'quant': 70},\n",
              " '10017': {'date': '06/09/2021',\n",
              "  'e_date': '10/09/2021',\n",
              "  'p_name': 'sausge',\n",
              "  'price': 90,\n",
              "  'quant': 102},\n",
              " '10018': {'date': '06/09/2021',\n",
              "  'e_date': '10/09/2021',\n",
              "  'p_name': 'waffles',\n",
              "  'price': 150,\n",
              "  'quant': 200},\n",
              " '10019': {'date': '06/08/2021',\n",
              "  'e_date': '06/04/2022',\n",
              "  'p_name': 'ketchup',\n",
              "  'price': 60,\n",
              "  'quant': 250},\n",
              " '10020': {'date': '06/09/2021',\n",
              "  'e_date': '20/09/2021',\n",
              "  'p_name': 'cream',\n",
              "  'price': 100,\n",
              "  'quant': 190},\n",
              " '10021': {'date': '05/08/2021',\n",
              "  'e_date': '05/06/2022',\n",
              "  'p_name': 'tissues',\n",
              "  'price': 150,\n",
              "  'quant': 180},\n",
              " '10022': {'date': '07/09/2021',\n",
              "  'e_date': '10/08/2022',\n",
              "  'p_name': 'napkins',\n",
              "  'price': 100,\n",
              "  'quant': 250},\n",
              " '10023': {'date': '05/07/2021',\n",
              "  'e_date': '05/07/2022',\n",
              "  'p_name': 'soap',\n",
              "  'price': 50,\n",
              "  'quant': 300},\n",
              " '10027': {'date': '07/08/2021',\n",
              "  'e_date': '07/08/2022',\n",
              "  'p_name': 'paste',\n",
              "  'price': 50,\n",
              "  'quant': 190},\n",
              " '10028': {'date': '07/08/2021',\n",
              "  'e_date': '07/05/2022',\n",
              "  'p_name': 'noodeles',\n",
              "  'price': 40,\n",
              "  'quant': 160},\n",
              " '10029': {'date': '06/09/2021',\n",
              "  'e_date': '09/09/2021',\n",
              "  'p_name': 'milk',\n",
              "  'price': 30,\n",
              "  'quant': 40},\n",
              " '10030': {'date': '06/08/2021',\n",
              "  'e_date': '06/06/2022',\n",
              "  'p_name': 'juice',\n",
              "  'price': 70,\n",
              "  'quant': 150},\n",
              " '10031': {'date': '07/08/2021',\n",
              "  'e_date': '07/08/2022',\n",
              "  'p_name': 'battery',\n",
              "  'price': 50,\n",
              "  'quant': 90},\n",
              " '10032': {'date': '06/05/2021',\n",
              "  'e_date': '06/04/2022',\n",
              "  'p_name': 'shampoo',\n",
              "  'price': 2,\n",
              "  'quant': 100},\n",
              " '10034': {'date': '06/09/2021',\n",
              "  'e_date': '10/09/2021',\n",
              "  'p_name': 'egg',\n",
              "  'price': 5,\n",
              "  'quant': 28},\n",
              " '10035': {'date': '07/08/2021',\n",
              "  'e_date': '07/08/2022',\n",
              "  'p_name': 'powder',\n",
              "  'price': 40,\n",
              "  'quant': 50}}"
            ]
          },
          "metadata": {},
          "execution_count": 4
        }
      ]
    },
    {
      "cell_type": "code",
      "metadata": {
        "colab": {
          "base_uri": "https://localhost:8080/"
        },
        "id": "YvcJJ4m7RMuz",
        "outputId": "5979fa31-6d4c-4cba-abe3-4e2a4beab8e2"
      },
      "source": [
        "ui_prod  = str(input(\"Enter the product_Id: \"))\n",
        "ui_quant = int(input(\"Enter the quantity: \"))\n",
        "\n",
        "print(\"**********BILL**********\")\n",
        "print(\"Product: \", records[ui_prod]['p_name'])\n",
        "print(\"Price: \", records[ui_prod]['price'])\n",
        "print(\"Billing Amount: \", records[ui_prod]['price'] * ui_quant)\n",
        "print(\"************************\")\n",
        "\n",
        "records[ui_prod]['quant'] = records[ui_prod]['quant'] - ui_quant"
      ],
      "execution_count": 5,
      "outputs": [
        {
          "output_type": "stream",
          "name": "stdout",
          "text": [
            "Enter the product_Id: 10019\n",
            "Enter the quantity: 3\n",
            "**********BILL**********\n",
            "Product:  ketchup\n",
            "Price:  60\n",
            "Billing Amount:  180\n",
            "************************\n"
          ]
        }
      ]
    },
    {
      "cell_type": "code",
      "metadata": {
        "id": "9HsF1L6-RMyM"
      },
      "source": [
        "js = json.dumps(records)\n",
        "\n",
        "fd = open(\"record.json\",'w')\n",
        "fd.write(js)\n",
        "fd.close()"
      ],
      "execution_count": 6,
      "outputs": []
    },
    {
      "cell_type": "code",
      "metadata": {
        "colab": {
          "base_uri": "https://localhost:8080/"
        },
        "id": "vRmLUHYTRM1W",
        "outputId": "864a1881-bd4d-4d51-ae9b-01948d6ffd2b"
      },
      "source": [
        "ui_prod  = str(input(\"Enter the product_Id: \"))\n",
        "ui_quant = int(input(\"Enter the quantity: \"))\n",
        "\n",
        "print(\"**********BILL**********\")\n",
        "print(\"Product: \", records[ui_prod]['p_name'])\n",
        "print(\"Price: \", records[ui_prod]['price'])\n",
        "print(\"Billing Amount: \", records[ui_prod]['price'] * ui_quant)\n",
        "print(\"************************\")\n",
        "\n",
        "records[ui_prod]['quant'] = records[ui_prod]['quant'] - ui_quant\n",
        "\n",
        "js = json.dumps(records)\n",
        "\n",
        "fd = open(\"record.json\",'w')\n",
        "fd.write(js)\n",
        "fd.close()"
      ],
      "execution_count": 7,
      "outputs": [
        {
          "output_type": "stream",
          "name": "stdout",
          "text": [
            "Enter the product_Id: 10021\n",
            "Enter the quantity: 5\n",
            "**********BILL**********\n",
            "Product:  tissues\n",
            "Price:  150\n",
            "Billing Amount:  750\n",
            "************************\n"
          ]
        }
      ]
    },
    {
      "cell_type": "code",
      "metadata": {
        "colab": {
          "base_uri": "https://localhost:8080/"
        },
        "id": "hvG7IeE1RM57",
        "outputId": "242130a4-9047-4d9b-c12f-81b78e7de180"
      },
      "source": [
        "ui_prod  = str(input(\"Enter the product_Id: \"))\n",
        "ui_quant = int(input(\"Enter the quantity: \"))\n",
        "\n",
        "print(\"**********BILL**********\")\n",
        "print(\"Product: \", records[ui_prod]['p_name'])\n",
        "print(\"Price: \", records[ui_prod]['price'])\n",
        "print(\"Billing Amount: \", records[ui_prod]['price'] * ui_quant)\n",
        "print(\"************************\")\n",
        "\n",
        "records[ui_prod]['quant'] = records[ui_prod]['quant'] - ui_quant\n",
        "\n",
        "js = json.dumps(records)\n",
        "\n",
        "fd = open(\"record.json\",'w')\n",
        "fd.write(js)\n",
        "fd.close()"
      ],
      "execution_count": 8,
      "outputs": [
        {
          "output_type": "stream",
          "name": "stdout",
          "text": [
            "Enter the product_Id: 10010\n",
            "Enter the quantity: 12\n",
            "**********BILL**********\n",
            "Product:  muffins\n",
            "Price:  25\n",
            "Billing Amount:  300\n",
            "************************\n"
          ]
        }
      ]
    },
    {
      "cell_type": "code",
      "metadata": {
        "colab": {
          "base_uri": "https://localhost:8080/"
        },
        "id": "YN_1NzLWRM-_",
        "outputId": "b978d235-a5f0-49eb-85f8-942acd50f557"
      },
      "source": [
        "records"
      ],
      "execution_count": 9,
      "outputs": [
        {
          "output_type": "execute_result",
          "data": {
            "text/plain": [
              "{'10001': {'date': '04/09/2021',\n",
              "  'e_date': '10/12/2021',\n",
              "  'p_name': 'cheese',\n",
              "  'price': 100,\n",
              "  'quant': 100},\n",
              " '10002': {'date': '04/09/2021',\n",
              "  'e_date': '10/09/2021',\n",
              "  'p_name': 'ham',\n",
              "  'price': 150,\n",
              "  'quant': 95},\n",
              " '10003': {'date': '04/09/2021',\n",
              "  'e_date': '10/09/2021',\n",
              "  'p_name': 'turkey',\n",
              "  'price': 200,\n",
              "  'quant': 50},\n",
              " '10004': {'date': '05/09/2021',\n",
              "  'e_date': '10/09/2021',\n",
              "  'p_name': 'salami',\n",
              "  'price': 160,\n",
              "  'quant': 50},\n",
              " '10005': {'date': '05/09/2021',\n",
              "  'e_date': '09/09/2021',\n",
              "  'p_name': 'shrimp',\n",
              "  'price': 15,\n",
              "  'quant': 500},\n",
              " '10006': {'date': '06/09/2021',\n",
              "  'e_date': '10/09/2021',\n",
              "  'p_name': 'chicken',\n",
              "  'price': 100,\n",
              "  'quant': 10},\n",
              " '10007': {'date': '06/09/2021',\n",
              "  'e_date': '10/09/2021',\n",
              "  'p_name': 'fish',\n",
              "  'price': 20,\n",
              "  'quant': 300},\n",
              " '10008': {'date': '03/09/2021',\n",
              "  'e_date': '13/09/2021',\n",
              "  'p_name': 'bread',\n",
              "  'price': 25,\n",
              "  'quant': 95},\n",
              " '10009': {'date': '06/09/2021',\n",
              "  'e_date': '16/09/2021',\n",
              "  'p_name': 'bagels',\n",
              "  'price': 40,\n",
              "  'quant': 65},\n",
              " '10010': {'date': '03/09/2021',\n",
              "  'e_date': '03/10/2021',\n",
              "  'p_name': 'muffins',\n",
              "  'price': 25,\n",
              "  'quant': 88},\n",
              " '10011': {'date': '06/09/2021',\n",
              "  'e_date': '16/09/2021',\n",
              "  'p_name': 'buns',\n",
              "  'price': 10,\n",
              "  'quant': 150},\n",
              " '10012': {'date': '01/09/2021',\n",
              "  'e_date': '01/12/2021',\n",
              "  'p_name': 'pasta',\n",
              "  'price': 100,\n",
              "  'quant': 80},\n",
              " '10013': {'date': '01/03/2021',\n",
              "  'e_date': '01/12/2021',\n",
              "  'p_name': 'rice',\n",
              "  'price': 1000,\n",
              "  'quant': 250},\n",
              " '10014': {'date': '03/06/2021',\n",
              "  'e_date': '05/05/2022',\n",
              "  'p_name': 'cereal',\n",
              "  'price': 188,\n",
              "  'quant': 108},\n",
              " '10015': {'date': '07/08/2021',\n",
              "  'e_date': '09/03/2022',\n",
              "  'p_name': 'oatmeal',\n",
              "  'price': 200,\n",
              "  'quant': 70},\n",
              " '10016': {'date': '06/09/2021',\n",
              "  'e_date': '12/09/2021',\n",
              "  'p_name': 'bacon',\n",
              "  'price': 300,\n",
              "  'quant': 70},\n",
              " '10017': {'date': '06/09/2021',\n",
              "  'e_date': '10/09/2021',\n",
              "  'p_name': 'sausge',\n",
              "  'price': 90,\n",
              "  'quant': 102},\n",
              " '10018': {'date': '06/09/2021',\n",
              "  'e_date': '10/09/2021',\n",
              "  'p_name': 'waffles',\n",
              "  'price': 150,\n",
              "  'quant': 200},\n",
              " '10019': {'date': '06/08/2021',\n",
              "  'e_date': '06/04/2022',\n",
              "  'p_name': 'ketchup',\n",
              "  'price': 60,\n",
              "  'quant': 247},\n",
              " '10020': {'date': '06/09/2021',\n",
              "  'e_date': '20/09/2021',\n",
              "  'p_name': 'cream',\n",
              "  'price': 100,\n",
              "  'quant': 190},\n",
              " '10021': {'date': '05/08/2021',\n",
              "  'e_date': '05/06/2022',\n",
              "  'p_name': 'tissues',\n",
              "  'price': 150,\n",
              "  'quant': 175},\n",
              " '10022': {'date': '07/09/2021',\n",
              "  'e_date': '10/08/2022',\n",
              "  'p_name': 'napkins',\n",
              "  'price': 100,\n",
              "  'quant': 250},\n",
              " '10023': {'date': '05/07/2021',\n",
              "  'e_date': '05/07/2022',\n",
              "  'p_name': 'soap',\n",
              "  'price': 50,\n",
              "  'quant': 300},\n",
              " '10027': {'date': '07/08/2021',\n",
              "  'e_date': '07/08/2022',\n",
              "  'p_name': 'paste',\n",
              "  'price': 50,\n",
              "  'quant': 190},\n",
              " '10028': {'date': '07/08/2021',\n",
              "  'e_date': '07/05/2022',\n",
              "  'p_name': 'noodeles',\n",
              "  'price': 40,\n",
              "  'quant': 160},\n",
              " '10029': {'date': '06/09/2021',\n",
              "  'e_date': '09/09/2021',\n",
              "  'p_name': 'milk',\n",
              "  'price': 30,\n",
              "  'quant': 40},\n",
              " '10030': {'date': '06/08/2021',\n",
              "  'e_date': '06/06/2022',\n",
              "  'p_name': 'juice',\n",
              "  'price': 70,\n",
              "  'quant': 150},\n",
              " '10031': {'date': '07/08/2021',\n",
              "  'e_date': '07/08/2022',\n",
              "  'p_name': 'battery',\n",
              "  'price': 50,\n",
              "  'quant': 90},\n",
              " '10032': {'date': '06/05/2021',\n",
              "  'e_date': '06/04/2022',\n",
              "  'p_name': 'shampoo',\n",
              "  'price': 2,\n",
              "  'quant': 100},\n",
              " '10034': {'date': '06/09/2021',\n",
              "  'e_date': '10/09/2021',\n",
              "  'p_name': 'egg',\n",
              "  'price': 5,\n",
              "  'quant': 28},\n",
              " '10035': {'date': '07/08/2021',\n",
              "  'e_date': '07/08/2022',\n",
              "  'p_name': 'powder',\n",
              "  'price': 40,\n",
              "  'quant': 50}}"
            ]
          },
          "metadata": {},
          "execution_count": 9
        }
      ]
    },
    {
      "cell_type": "code",
      "metadata": {
        "id": "EQFLFhPSRNEH"
      },
      "source": [
        "js = json.dumps(records)\n",
        "\n",
        "fd = open(\"record.json\",'w')\n",
        "fd.write(js)\n",
        "fd.close()"
      ],
      "execution_count": 10,
      "outputs": []
    },
    {
      "cell_type": "code",
      "metadata": {
        "id": "5h5bllgbRNMj"
      },
      "source": [
        ""
      ],
      "execution_count": null,
      "outputs": []
    },
    {
      "cell_type": "markdown",
      "metadata": {
        "id": "A3bavy6jXkbA"
      },
      "source": [
        "# SALES\n"
      ]
    },
    {
      "cell_type": "code",
      "metadata": {
        "id": "D5uSvI33RNPo"
      },
      "source": [
        "import time\n",
        "pur_time= time.ctime()"
      ],
      "execution_count": 11,
      "outputs": []
    },
    {
      "cell_type": "code",
      "metadata": {
        "id": "SFr9GL-jYn3Q"
      },
      "source": [
        "sales = {1 : {'product' : ui_prod, 'quantity' : ui_quant, 'amount': records[ui_prod]['price'] * ui_quant, 'purchase time': pur_time}}"
      ],
      "execution_count": 12,
      "outputs": []
    },
    {
      "cell_type": "code",
      "metadata": {
        "colab": {
          "base_uri": "https://localhost:8080/"
        },
        "id": "XIHihOBAYn6U",
        "outputId": "2cda0ae2-d81b-4d2f-c693-1960947c483d"
      },
      "source": [
        "sales"
      ],
      "execution_count": 13,
      "outputs": [
        {
          "output_type": "execute_result",
          "data": {
            "text/plain": [
              "{1: {'amount': 300,\n",
              "  'product': '10010',\n",
              "  'purchase time': 'Mon Sep  6 09:13:39 2021',\n",
              "  'quantity': 12}}"
            ]
          },
          "metadata": {},
          "execution_count": 13
        }
      ]
    },
    {
      "cell_type": "code",
      "metadata": {
        "id": "foUYy4QQdrFv"
      },
      "source": [
        "sale = json.dumps(sales)"
      ],
      "execution_count": 14,
      "outputs": []
    },
    {
      "cell_type": "code",
      "metadata": {
        "id": "MkKjdH3mdXjM"
      },
      "source": [
        "fd = open(\"sales.json\",'w')\n",
        "fd.write(sale)\n",
        "fd.close()"
      ],
      "execution_count": 15,
      "outputs": []
    },
    {
      "cell_type": "code",
      "metadata": {
        "colab": {
          "base_uri": "https://localhost:8080/"
        },
        "id": "o6zrCt56YoAt",
        "outputId": "ff9f574f-3e56-43ab-ceff-21aaa35cd968"
      },
      "source": [
        "ui_prod  = str(input(\"Enter the product_Id: \"))\n",
        "ui_quant = int(input(\"Enter the quantity: \"))\n",
        "\n",
        "print(\"**********BILL**********\")\n",
        "print(\"Product: \", records[ui_prod]['p_name'])\n",
        "print(\"Price: \", records[ui_prod]['price'])\n",
        "print(\"Billing Amount: \", records[ui_prod]['price'] * ui_quant)\n",
        "print(\"************************\")\n",
        "\n",
        "records[ui_prod]['quant'] = records[ui_prod]['quant'] - ui_quant\n",
        "\n",
        "js = json.dumps(records)\n",
        "\n",
        "\n",
        "\n",
        "fd = open(\"record.json\",'w')\n",
        "fd.write(js)\n",
        "fd.close()\n",
        "\n",
        "import time\n",
        "pur_time= time.ctime()\n",
        "\n",
        "sales[len(sales)+1]={'product' : ui_prod, 'quantity' : ui_quant, 'amount': records[ui_prod]['price'] * ui_quant, 'purchase time': pur_time}\n",
        "\n",
        "\n",
        "\n",
        "sale = json.dumps(sales)\n",
        "\n",
        "fd = open(\"sales.json\",'w')\n",
        "fd.write(sale)\n",
        "fd.close()\n",
        "\n"
      ],
      "execution_count": 16,
      "outputs": [
        {
          "output_type": "stream",
          "name": "stdout",
          "text": [
            "Enter the product_Id: 10011\n",
            "Enter the quantity: 2\n",
            "**********BILL**********\n",
            "Product:  buns\n",
            "Price:  10\n",
            "Billing Amount:  20\n",
            "************************\n"
          ]
        }
      ]
    },
    {
      "cell_type": "code",
      "metadata": {
        "colab": {
          "base_uri": "https://localhost:8080/"
        },
        "id": "kcL391_ggTaT",
        "outputId": "3c707d86-3692-4081-cfeb-2641bc05ddb4"
      },
      "source": [
        "import time\n",
        "pur_time= time.ctime()\n",
        "\n",
        "ui_prod  = str(input(\"Enter the product_Id: \"))\n",
        "ui_quant = int(input(\"Enter the quantity: \"))\n",
        "\n",
        "print(\"**********BILL**********\")\n",
        "print(\"Product: \", records[ui_prod]['p_name'])\n",
        "print(\"Price: \", records[ui_prod]['price'])\n",
        "print(\"Billing Amount: \", records[ui_prod]['price'] * ui_quant)\n",
        "print(\"Purchasing Time: \",pur_time)\n",
        "print(\"************************\")\n",
        "\n",
        "records[ui_prod]['quant'] = records[ui_prod]['quant'] - ui_quant\n",
        "\n",
        "js = json.dumps(records)\n",
        "\n",
        "#writting into record.json file\n",
        "\n",
        "fd = open(\"record.json\",'w')\n",
        "fd.write(js)\n",
        "fd.close()\n",
        "\n",
        "sales[len(sales)+1]={'product' : ui_prod, 'quantity' : ui_quant, 'amount': records[ui_prod]['price'] * ui_quant, 'purchase time': pur_time}\n",
        "\n",
        "#writting into sales.json file\n",
        "\n",
        "sale = json.dumps(sales)\n",
        "\n",
        "fd = open(\"sales.json\",'w')\n",
        "fd.write(sale)\n",
        "fd.close()\n"
      ],
      "execution_count": 17,
      "outputs": [
        {
          "output_type": "stream",
          "name": "stdout",
          "text": [
            "Enter the product_Id: 10006\n",
            "Enter the quantity: 2\n",
            "**********BILL**********\n",
            "Product:  chicken\n",
            "Price:  100\n",
            "Billing Amount:  200\n",
            "Purchasing Time:  Mon Sep  6 09:53:34 2021\n",
            "************************\n"
          ]
        }
      ]
    },
    {
      "cell_type": "code",
      "metadata": {
        "id": "Xj51NIwSh2w6"
      },
      "source": [
        "sale = json.dumps(sales)\n",
        "\n",
        "fd = open(\"sales.json\",'w')\n",
        "fd.write(sale)\n",
        "fd.close()"
      ],
      "execution_count": 18,
      "outputs": []
    },
    {
      "cell_type": "code",
      "metadata": {
        "colab": {
          "base_uri": "https://localhost:8080/"
        },
        "id": "lh--ukzJivQu",
        "outputId": "43b4988d-2170-4ce3-8a5f-a0ae3b5a3983"
      },
      "source": [
        "import time\n",
        "pur_time= time.ctime()\n",
        "\n",
        "ui_prod  = str(input(\"Enter the product_Id: \"))\n",
        "ui_quant = int(input(\"Enter the quantity: \"))\n",
        "\n",
        "print(\"**********BILL**********\")\n",
        "print(\"Product: \", records[ui_prod]['p_name'])\n",
        "print(\"Price: \", records[ui_prod]['price'])\n",
        "print(\"Billing Amount: \", records[ui_prod]['price'] * ui_quant)\n",
        "print(\"Purchasing Time: \",pur_time)\n",
        "print(\"************************\")\n",
        "\n",
        "records[ui_prod]['quant'] = records[ui_prod]['quant'] - ui_quant\n",
        "\n",
        "js = json.dumps(records)\n",
        "\n",
        "#writting into record.json file\n",
        "\n",
        "fd = open(\"record.json\",'w')\n",
        "fd.write(js)\n",
        "fd.close()\n",
        "\n",
        "sales[len(sales)+1]={'product' : ui_prod, 'quantity' : ui_quant, 'amount': records[ui_prod]['price'] * ui_quant, 'purchase time': pur_time}\n",
        "\n"
      ],
      "execution_count": 19,
      "outputs": [
        {
          "output_type": "stream",
          "name": "stdout",
          "text": [
            "Enter the product_Id: 10028\n",
            "Enter the quantity: 5\n",
            "**********BILL**********\n",
            "Product:  noodeles\n",
            "Price:  40\n",
            "Billing Amount:  200\n",
            "Purchasing Time:  Mon Sep  6 09:58:32 2021\n",
            "************************\n"
          ]
        }
      ]
    },
    {
      "cell_type": "code",
      "metadata": {
        "id": "hlBGCyf_ivcF"
      },
      "source": [
        "#writting into sales.json file\n",
        "\n",
        "sale = json.dumps(sales)\n",
        "\n",
        "fd = open(\"sales.json\",'w')\n",
        "fd.write(sale)\n",
        "fd.close()"
      ],
      "execution_count": 20,
      "outputs": []
    },
    {
      "cell_type": "code",
      "metadata": {
        "colab": {
          "base_uri": "https://localhost:8080/"
        },
        "id": "JyBrOL6oiviU",
        "outputId": "dea53d0b-8173-4e76-bdcc-d9edaf46ff38"
      },
      "source": [
        "import time\n",
        "pur_time= time.ctime()\n",
        "\n",
        "ui_prod  = str(input(\"Enter the product_Id: \"))\n",
        "ui_quant = int(input(\"Enter the quantity: \"))\n",
        "\n",
        "print(\"**********BILL**********\")\n",
        "print(\"Product: \", records[ui_prod]['p_name'])\n",
        "print(\"Price: \", records[ui_prod]['price'])\n",
        "print(\"Billing Amount: \", records[ui_prod]['price'] * ui_quant)\n",
        "print(\"Purchasing Time: \",pur_time)\n",
        "print(\"************************\")\n",
        "\n",
        "records[ui_prod]['quant'] = records[ui_prod]['quant'] - ui_quant\n",
        "\n",
        "#writting into record.json file\n",
        "\n",
        "js = json.dumps(records)\n",
        "\n",
        "fd = open(\"record.json\",'w')\n",
        "fd.write(js)\n",
        "fd.close()\n",
        "\n",
        "sales[len(sales)+1]={'product' : ui_prod, 'quantity' : ui_quant, 'amount': records[ui_prod]['price'] * ui_quant, 'purchase time': pur_time}\n",
        "\n",
        "#writting into sales.json file\n",
        "\n",
        "sale = json.dumps(sales)\n",
        "\n",
        "fd = open(\"sales.json\",'w')\n",
        "fd.write(sale)\n",
        "fd.close()"
      ],
      "execution_count": 22,
      "outputs": [
        {
          "output_type": "stream",
          "name": "stdout",
          "text": [
            "Enter the product_Id: 10031\n",
            "Enter the quantity: 8\n",
            "**********BILL**********\n",
            "Product:  battery\n",
            "Price:  50\n",
            "Billing Amount:  400\n",
            "Purchasing Time:  Mon Sep  6 10:05:07 2021\n",
            "************************\n"
          ]
        }
      ]
    },
    {
      "cell_type": "code",
      "metadata": {
        "colab": {
          "base_uri": "https://localhost:8080/"
        },
        "id": "b7icrfjTlTvC",
        "outputId": "f86b5a42-9acf-4143-ee1d-45eec08244d0"
      },
      "source": [
        "import time\n",
        "pur_time= time.ctime()\n",
        "\n",
        "ui_prod  = str(input(\"Enter the product_Id: \"))\n",
        "ui_quant = int(input(\"Enter the quantity: \"))\n",
        "\n",
        "print(\"**********BILL**********\")\n",
        "print(\"Product: \", records[ui_prod]['p_name'])\n",
        "print(\"Price: \", records[ui_prod]['price'])\n",
        "print(\"Billing Amount: \", records[ui_prod]['price'] * ui_quant)\n",
        "print(\"Purchasing Time: \",pur_time)\n",
        "print(\"************************\")\n",
        "\n",
        "records[ui_prod]['quant'] = records[ui_prod]['quant'] - ui_quant\n",
        "\n",
        "#writting into record.json file\n",
        "\n",
        "js = json.dumps(records)\n",
        "\n",
        "fd = open(\"record.json\",'w')\n",
        "fd.write(js)\n",
        "fd.close()\n",
        "\n",
        "sales[len(sales)+1]={'product' : ui_prod, 'quantity' : ui_quant, 'amount': records[ui_prod]['price'] * ui_quant, 'purchase time': pur_time}\n",
        "\n",
        "#writting into sales.json file\n",
        "\n",
        "sale = json.dumps(sales)\n",
        "\n",
        "fd = open(\"sales.json\",'w')\n",
        "fd.write(sale)\n",
        "fd.close()"
      ],
      "execution_count": 24,
      "outputs": [
        {
          "output_type": "stream",
          "name": "stdout",
          "text": [
            "Enter the product_Id: 10035\n",
            "Enter the quantity: 2\n",
            "**********BILL**********\n",
            "Product:  powder\n",
            "Price:  40\n",
            "Billing Amount:  80\n",
            "Purchasing Time:  Mon Sep  6 10:09:17 2021\n",
            "************************\n"
          ]
        }
      ]
    },
    {
      "cell_type": "code",
      "metadata": {
        "colab": {
          "base_uri": "https://localhost:8080/"
        },
        "id": "Iuckd1j_lkwT",
        "outputId": "7822bd1f-c3f4-40c4-873a-35cbdfcd7981"
      },
      "source": [
        "import time\n",
        "pur_time= time.ctime()\n",
        "\n",
        "ui_prod  = str(input(\"Enter the product_Id: \"))\n",
        "ui_quant = int(input(\"Enter the quantity: \"))\n",
        "\n",
        "print(\"**********BILL**********\")\n",
        "print(\"Product: \", records[ui_prod]['p_name'])\n",
        "print(\"Price: \", records[ui_prod]['price'])\n",
        "print(\"Billing Amount: \", records[ui_prod]['price'] * ui_quant)\n",
        "print(\"Purchasing Time: \",pur_time)\n",
        "print(\"************************\")\n",
        "\n",
        "records[ui_prod]['quant'] = records[ui_prod]['quant'] - ui_quant\n",
        "\n",
        "#writting into record.json file\n",
        "\n",
        "js = json.dumps(records)\n",
        "\n",
        "fd = open(\"record.json\",'w')\n",
        "fd.write(js)\n",
        "fd.close()\n",
        "\n",
        "sales[len(sales)+1]={'product' : ui_prod, 'quantity' : ui_quant, 'amount': records[ui_prod]['price'] * ui_quant, 'purchase time': pur_time}\n",
        "\n",
        "#writting into sales.json file\n",
        "\n",
        "sale = json.dumps(sales)\n",
        "\n",
        "fd = open(\"sales.json\",'w')\n",
        "fd.write(sale)\n",
        "fd.close()"
      ],
      "execution_count": 25,
      "outputs": [
        {
          "output_type": "stream",
          "name": "stdout",
          "text": [
            "Enter the product_Id: 10016\n",
            "Enter the quantity: 9\n",
            "**********BILL**********\n",
            "Product:  bacon\n",
            "Price:  300\n",
            "Billing Amount:  2700\n",
            "Purchasing Time:  Mon Sep  6 10:10:40 2021\n",
            "************************\n"
          ]
        }
      ]
    },
    {
      "cell_type": "code",
      "metadata": {
        "colab": {
          "base_uri": "https://localhost:8080/"
        },
        "id": "Yg5nGMcqlk5Z",
        "outputId": "492d40cd-9db4-42e4-e92b-c77f01d1e032"
      },
      "source": [
        "import time\n",
        "pur_time= time.ctime()\n",
        "\n",
        "ui_prod  = str(input(\"Enter the product_Id: \"))\n",
        "ui_quant = int(input(\"Enter the quantity: \"))\n",
        "\n",
        "print(\"**********BILL**********\")\n",
        "print(\"Product: \", records[ui_prod]['p_name'])\n",
        "print(\"Price: \", records[ui_prod]['price'])\n",
        "print(\"Billing Amount: \", records[ui_prod]['price'] * ui_quant)\n",
        "print(\"Purchasing Time: \",pur_time)\n",
        "print(\"************************\")\n",
        "\n",
        "records[ui_prod]['quant'] = records[ui_prod]['quant'] - ui_quant\n",
        "\n",
        "#writting into record.json file\n",
        "\n",
        "js = json.dumps(records)\n",
        "\n",
        "fd = open(\"record.json\",'w')\n",
        "fd.write(js)\n",
        "fd.close()\n",
        "\n",
        "sales[len(sales)+1]={'product' : ui_prod, 'quantity' : ui_quant, 'amount': records[ui_prod]['price'] * ui_quant, 'purchase time': pur_time}\n",
        "\n",
        "#writting into sales.json file\n",
        "\n",
        "sale = json.dumps(sales)\n",
        "\n",
        "fd = open(\"sales.json\",'w')\n",
        "fd.write(sale)\n",
        "fd.close()"
      ],
      "execution_count": 26,
      "outputs": [
        {
          "output_type": "stream",
          "name": "stdout",
          "text": [
            "Enter the product_Id: 10014\n",
            "Enter the quantity: 10\n",
            "**********BILL**********\n",
            "Product:  cereal\n",
            "Price:  188\n",
            "Billing Amount:  1880\n",
            "Purchasing Time:  Mon Sep  6 10:12:12 2021\n",
            "************************\n"
          ]
        }
      ]
    },
    {
      "cell_type": "code",
      "metadata": {
        "colab": {
          "base_uri": "https://localhost:8080/"
        },
        "id": "SsvFVOyellH9",
        "outputId": "57805118-ceb0-41be-d999-20e1c50d0cb7"
      },
      "source": [
        "import time\n",
        "pur_time= time.ctime()\n",
        "\n",
        "ui_prod  = str(input(\"Enter the product_Id: \"))\n",
        "ui_quant = int(input(\"Enter the quantity: \"))\n",
        "\n",
        "print(\"**********BILL**********\")\n",
        "print(\"Product: \", records[ui_prod]['p_name'])\n",
        "print(\"Price: \", records[ui_prod]['price'])\n",
        "print(\"Billing Amount: \", records[ui_prod]['price'] * ui_quant)\n",
        "print(\"Purchasing Time: \",pur_time)\n",
        "print(\"************************\")\n",
        "\n",
        "records[ui_prod]['quant'] = records[ui_prod]['quant'] - ui_quant\n",
        "\n",
        "#writting into record.json file\n",
        "\n",
        "js = json.dumps(records)\n",
        "\n",
        "fd = open(\"record.json\",'w')\n",
        "fd.write(js)\n",
        "fd.close()\n",
        "\n",
        "sales[len(sales)+1]={'product' : ui_prod, 'quantity' : ui_quant, 'amount': records[ui_prod]['price'] * ui_quant, 'purchase time': pur_time}\n",
        "\n",
        "#writting into sales.json file\n",
        "\n",
        "sale = json.dumps(sales)\n",
        "\n",
        "fd = open(\"sales.json\",'w')\n",
        "fd.write(sale)\n",
        "fd.close()"
      ],
      "execution_count": 28,
      "outputs": [
        {
          "output_type": "stream",
          "name": "stdout",
          "text": [
            "Enter the product_Id: 10001\n",
            "Enter the quantity: 20\n",
            "**********BILL**********\n",
            "Product:  cheese\n",
            "Price:  100\n",
            "Billing Amount:  2000\n",
            "Purchasing Time:  Mon Sep  6 10:15:26 2021\n",
            "************************\n"
          ]
        }
      ]
    },
    {
      "cell_type": "code",
      "metadata": {
        "colab": {
          "base_uri": "https://localhost:8080/"
        },
        "id": "MH_D8DzunBi7",
        "outputId": "e395622b-7a10-41cf-f4e0-a569967540be"
      },
      "source": [
        "import time\n",
        "pur_time= time.ctime()\n",
        "\n",
        "ui_prod  = str(input(\"Enter the product_Id: \"))\n",
        "ui_quant = int(input(\"Enter the quantity: \"))\n",
        "\n",
        "print(\"**********BILL**********\")\n",
        "print(\"Product: \", records[ui_prod]['p_name'])\n",
        "print(\"Price: \", records[ui_prod]['price'])\n",
        "print(\"Billing Amount: \", records[ui_prod]['price'] * ui_quant)\n",
        "print(\"Purchasing Time: \",pur_time)\n",
        "print(\"************************\")\n",
        "\n",
        "records[ui_prod]['quant'] = records[ui_prod]['quant'] - ui_quant\n",
        "\n",
        "#writting into record.json file\n",
        "\n",
        "js = json.dumps(records)\n",
        "\n",
        "fd = open(\"record.json\",'w')\n",
        "fd.write(js)\n",
        "fd.close()\n",
        "\n",
        "sales[len(sales)+1]={'product' : ui_prod, 'quantity' : ui_quant, 'amount': records[ui_prod]['price'] * ui_quant, 'purchase time': pur_time}\n",
        "\n",
        "#writting into sales.json file\n",
        "\n",
        "sale = json.dumps(sales)\n",
        "\n",
        "fd = open(\"sales.json\",'w')\n",
        "fd.write(sale)\n",
        "fd.close()"
      ],
      "execution_count": 29,
      "outputs": [
        {
          "output_type": "stream",
          "name": "stdout",
          "text": [
            "Enter the product_Id: 10005\n",
            "Enter the quantity: 7\n",
            "**********BILL**********\n",
            "Product:  shrimp\n",
            "Price:  15\n",
            "Billing Amount:  105\n",
            "Purchasing Time:  Mon Sep  6 10:16:44 2021\n",
            "************************\n"
          ]
        }
      ]
    },
    {
      "cell_type": "code",
      "metadata": {
        "colab": {
          "base_uri": "https://localhost:8080/"
        },
        "id": "azsdbQ0_nBt3",
        "outputId": "0388719d-2d00-41be-8328-f82fe6dd08db"
      },
      "source": [
        "import time\n",
        "pur_time= time.ctime()\n",
        "\n",
        "ui_prod  = str(input(\"Enter the product_Id: \"))\n",
        "ui_quant = int(input(\"Enter the quantity: \"))\n",
        "\n",
        "print(\"**********BILL**********\")\n",
        "print(\"Product: \", records[ui_prod]['p_name'])\n",
        "print(\"Price: \", records[ui_prod]['price'])\n",
        "print(\"Billing Amount: \", records[ui_prod]['price'] * ui_quant)\n",
        "print(\"Purchasing Time: \",pur_time)\n",
        "print(\"************************\")\n",
        "\n",
        "records[ui_prod]['quant'] = records[ui_prod]['quant'] - ui_quant\n",
        "\n",
        "#writting into record.json file\n",
        "\n",
        "js = json.dumps(records)\n",
        "\n",
        "fd = open(\"record.json\",'w')\n",
        "fd.write(js)\n",
        "fd.close()\n",
        "\n",
        "sales[len(sales)+1]={'product' : ui_prod, 'quantity' : ui_quant, 'amount': records[ui_prod]['price'] * ui_quant, 'purchase time': pur_time}\n",
        "\n",
        "#writting into sales.json file\n",
        "\n",
        "sale = json.dumps(sales)\n",
        "\n",
        "fd = open(\"sales.json\",'w')\n",
        "fd.write(sale)\n",
        "fd.close()"
      ],
      "execution_count": 30,
      "outputs": [
        {
          "output_type": "stream",
          "name": "stdout",
          "text": [
            "Enter the product_Id: 10032\n",
            "Enter the quantity: 9\n",
            "**********BILL**********\n",
            "Product:  shampoo\n",
            "Price:  2\n",
            "Billing Amount:  18\n",
            "Purchasing Time:  Mon Sep  6 10:17:53 2021\n",
            "************************\n"
          ]
        }
      ]
    },
    {
      "cell_type": "code",
      "metadata": {
        "id": "g7iAX-kKnBxS"
      },
      "source": [
        ""
      ],
      "execution_count": null,
      "outputs": []
    }
  ]
}